{
  "nbformat": 4,
  "nbformat_minor": 0,
  "metadata": {
    "anaconda-cloud": {},
    "kernelspec": {
      "display_name": "Python 3",
      "language": "python",
      "name": "python3"
    },
    "language_info": {
      "codemirror_mode": {
        "name": "ipython",
        "version": 3
      },
      "file_extension": ".py",
      "mimetype": "text/x-python",
      "name": "python",
      "nbconvert_exporter": "python",
      "pygments_lexer": "ipython3",
      "version": "3.7.2"
    },
    "colab": {
      "provenance": [],
      "include_colab_link": true
    }
  },
  "cells": [
    {
      "cell_type": "markdown",
      "metadata": {
        "id": "view-in-github",
        "colab_type": "text"
      },
      "source": [
        "<a href=\"https://colab.research.google.com/github/TateRCXVII/3130-Honey-Bees/blob/main/Copy_of_basicPython0_1.ipynb\" target=\"_parent\"><img src=\"https://colab.research.google.com/assets/colab-badge.svg\" alt=\"Open In Colab\"/></a>"
      ]
    },
    {
      "cell_type": "markdown",
      "metadata": {
        "id": "5Ys5PASYqDzy"
      },
      "source": [
        "DS 2500: Notebook 0-1\n",
        "\n",
        "Basic Python\n",
        "\n",
        "Prof. Marina Kogan\n",
        "\n",
        "based in part on materials by Prof. Alex Lex\n",
        "\n"
      ]
    },
    {
      "cell_type": "code",
      "source": [],
      "metadata": {
        "id": "OJG4CvxBaiOA"
      },
      "execution_count": null,
      "outputs": []
    },
    {
      "cell_type": "markdown",
      "metadata": {
        "id": "W5gRpN9lqDz0"
      },
      "source": [
        "# Jupyter Notebook Basics\n",
        "\n",
        "First, let's get familiar with Jupyter Notebooks. \n",
        "\n",
        "Notebooks are made up of \"cells\" that can contain text or code. Notebooks also show you output of the code right below a code cell. \n",
        "These words are written in a text cell using a simple formatting dialect called [markdown](http://jupyter-notebook.readthedocs.io/en/latest/examples/Notebook/Working%20With%20Markdown%20Cells.html). \n",
        "\n",
        "Double click on this cell text or press enter while the cell is selected to see how it is formatted and change it. We can make words *italic* or **bold** or add [links](https://utah.instructure.com/courses/604399/).\n",
        "\n",
        "The content of the notebook, as you edit in your browser, is written to the `.ipynb` file we provided. \n",
        "\n",
        "If you want to read up on Notebooks in detail check out the [excellent documentation](http://jupyter-notebook.readthedocs.io/en/latest/notebook.html).\n",
        "\n",
        "The most interesting aspect of notebooks, however, is that we can write code in the cells. You can use [many different programming languages](https://github.com/jupyter/jupyter/wiki/Jupyter-kernels) in Jupyter notebooks, but we'll stick to Python. So, let's try it out — press Shift+Return to execute a code cell:"
      ]
    },
    {
      "cell_type": "code",
      "metadata": {
        "scrolled": true,
        "id": "69lVlf6TqDz1"
      },
      "source": [
        "print (\"Hello World!\")\n",
        "a = 3\n",
        "# the return value of the last line of a cell is the output\n",
        "a"
      ],
      "execution_count": null,
      "outputs": []
    },
    {
      "cell_type": "markdown",
      "metadata": {
        "id": "Lh7Salj6qDz8"
      },
      "source": [
        "Here, we've greeted the world out there using a print statement. \n",
        "\n",
        "We also assigned a variable and returned it, which makes it the output of this cell. Notice that the output here is directly written into the notebook. \n",
        "\n",
        "Another cool thing about cells is that they preserve the state of what happened before. Let's initialize a couple of variables in the next cell: "
      ]
    },
    {
      "cell_type": "code",
      "metadata": {
        "id": "7U2IlBkEqDz9"
      },
      "source": [
        "age = 2\n",
        "gender = \"female\"\n",
        "name = \"Datascience Cat\"\n",
        "smart = True"
      ],
      "execution_count": null,
      "outputs": []
    },
    {
      "cell_type": "markdown",
      "metadata": {
        "id": "IOcyTXV0qD0B"
      },
      "source": [
        "These variables are now available to all cells below or above **if you executed the cell**. In practice, you should never rely on a variable from a lower cell in an earlier cell. \n",
        "\n",
        "If you make a change to a cell, you need to execute it again. You can also batch-executed multiple cells using the \"Runtime\" menu in the toolbar. \n",
        "\n",
        "Let's do something with the variables we just defined:"
      ]
    },
    {
      "cell_type": "code",
      "metadata": {
        "id": "Sz4WkgTPqD0D"
      },
      "source": [
        "print (name + \", age: \" + str(age) + \", \" + \n",
        "       gender + \", is smart: \" + str(smart))"
      ],
      "execution_count": null,
      "outputs": []
    },
    {
      "cell_type": "markdown",
      "metadata": {
        "id": "2ONwj0eiqD0G"
      },
      "source": [
        "In the previous cell, we've [concatenated a couple of strings](https://docs.python.org/3.5/tutorial/introduction.html#strings) to produce one longer string using the `+` operator. Also, we had to call the `str()` function to get [string representations of these variables](https://docs.python.org/3.5/library/stdtypes.html#str).\n",
        "\n",
        "An alternative way to do this is not to concatenate the string but to pass each variable in as a separate argument\n",
        " to the print function: "
      ]
    },
    {
      "cell_type": "code",
      "metadata": {
        "id": "tfI9zlFjqD0G"
      },
      "source": [
        "print (name, \", age: \", str(age), \", \", gender, \", is smart: \" + str(smart), sep=\"\")"
      ],
      "execution_count": null,
      "outputs": []
    },
    {
      "cell_type": "markdown",
      "metadata": {
        "id": "WxOC5VgUqD0J"
      },
      "source": [
        "## Modes\n",
        "\n",
        "Notebooks have two modes, a **command mode** and **edit mode**. For regular Jupyter notebooks, wou can see which mode you're in by the color of the cell: \n",
        " * **green** means edit mode, \n",
        " * **blue** means command mode. \n",
        " \n",
        "In Google Colab, instead the cell is highlighted (looks 3D)\n",
        "in edit mode. \n",
        "\n",
        "Many operations depend on your mode. You can switch into edit mode with \"Enter\", and get out of it with \"Escape\".\n",
        "\n",
        "\n",
        "## Shortucts\n",
        "\n",
        "While you can always use the tool-bar above, you'll be much more efficient if you use a couple of shortcuts. The most important ones are:\n",
        "\n",
        "**`Ctrl+Enter`** runs the current cell.  \n",
        "**`Shift+Enter`** runs the current cell and jumps to the next cell.   \n",
        "**`Alt+Enter`** runs the cell and adds a new one below it.\n",
        "\n",
        "In command mode:\n",
        "**`h`** shows a help menu with all these commands.  \n",
        "**`a`** adds a cell before the current cell.  \n",
        "**`b`** adds a cell after the current cell.  \n",
        "**`dd`** deletes a cell.  \n",
        "**`m`** as in **m**arkdown, switches a cell to markdown mode.  \n",
        "**`y`** as in p**y**thon switches a cell to code.  "
      ]
    },
    {
      "cell_type": "markdown",
      "metadata": {
        "id": "In6vIipCqD0K"
      },
      "source": [
        "## Kernels\n",
        "\n",
        "When you [run code](http://jupyter-notebook.readthedocs.io/en/latest/examples/Notebook/Running%20Code.html), the code is actually executed in a **kernel**. You can do bad things to a kernel: you can make it stuck in an endless loop, crash it, corrupt it, etc. And you probably will do all of these things :). So sometimes you might have to interrupt your kernel or restart it. \n",
        "\n",
        "Also, before submitting a homework or a project, make sure to `Restart and Run All`. This will create a clean run of your project, without any side effects that you might encounter during development. We want you to submit the homeworks **with output**, and by doing that you will make sure that we actually can also execute your code properly.\n",
        "\n",
        "## Storing Output\n",
        "\n",
        "Notebooks contain both the input to a computation and the outputs. If you run a notebook, all the outputs generated by the code cells are also stored in the notebook.  \n",
        "\n",
        "The Notebook itself is stored in a rather ugly format containing the text, code, and the output. This can sometimes be challenging when working with version control."
      ]
    },
    {
      "cell_type": "markdown",
      "metadata": {
        "collapsed": true,
        "id": "tSZZSEa6qD0L"
      },
      "source": [
        "### **Exercise 1: Creating Cells, Executing Code**\n",
        "\n",
        "1.   List item\n",
        "2.   List item\n",
        "\n",
        "\n",
        "\n",
        "1. Create a new code cell below where you define variables containing your name, your age in years, and your major.\n",
        "2. Create another cell that uses these variables and prints a concatenated string stating your name, major, and your age in years.\n",
        "\n",
        "```\n",
        "Name: Science Cat, Major: Computer Science, Age: 94 years. \n",
        "```"
      ]
    },
    {
      "cell_type": "markdown",
      "metadata": {
        "id": "tI6QvBV9qD0L"
      },
      "source": [
        "# Python Basics\n",
        "\n",
        "## Functions\n",
        "\n",
        "In math, functions transfrom an input to an output as defined by the property of the function. \n",
        "\n",
        "You probably remember functions defined like this\n",
        "\n",
        "$f(x) = x^2 + 3$\n",
        "\n",
        "In programming, functions can do exactly this, but are also used to execute \"subroutines\", i.e., to execute pieces of code in various order and under various conditions. Functions in programming are very important for structuring and modularizing code. \n",
        "\n",
        "In computer science, functions are also called \"procedures\" and \"methods\" (there are subtle distinctions, but nothing we need to worry about at this time). \n",
        "\n",
        "The following Python function, for example, provides the output of the above defined function for every valid input: "
      ]
    },
    {
      "cell_type": "code",
      "metadata": {
        "id": "SrbuCiASqD0N"
      },
      "source": [
        "def f(x):\n",
        "    result = x ** 2 + 3 \n",
        "    return result"
      ],
      "execution_count": null,
      "outputs": []
    },
    {
      "cell_type": "markdown",
      "metadata": {
        "id": "wQro4mfKqD0R"
      },
      "source": [
        "We can now run this function with multiple input values: "
      ]
    },
    {
      "cell_type": "code",
      "metadata": {
        "id": "v_GXLzTUqD0S"
      },
      "source": [
        "print(f(2))\n",
        "print(f(3))\n",
        "f(5)"
      ],
      "execution_count": null,
      "outputs": []
    },
    {
      "cell_type": "markdown",
      "metadata": {
        "id": "cmIjZ38-qD0U"
      },
      "source": [
        "Let's take a look at this function. The first line\n",
        "```python\n",
        "def f(x):\n",
        "```\n",
        "defines the function of name `f` using the `def` keyword. The name we use (`f` here) is largely arbitrary, but following good software engineering practices it should be something meaningful. So instead of `f`, **`square_plus_three` would be a better function name in this case**.  \n",
        "\n",
        "After the function name follows a list of parameters, in parantheses. In this case we define that the function takes only one parameter, `x`, but we could also define multiple parameters like this:\n",
        "```python \n",
        "def f(x, y, z):\n",
        "```\n",
        "\n",
        "The parameters are then available as local variables within the function.\n",
        "\n",
        "The second line does the actual computation and assigns it to a **local variable** called `result`. \n",
        "\n",
        "The third line uses the `return` keyword to return the result variable. Functions can have a return value that we can assign to a variable. For example, here we could write: \n",
        "\n",
        "```python\n",
        "my_result = f(10)\n",
        "``` \n",
        "\n",
        "Which would assign the return value of the function to the variable `my_result`."
      ]
    },
    {
      "cell_type": "markdown",
      "metadata": {
        "id": "uJJTo5bLqD0V"
      },
      "source": [
        "Note that the lines of code that belong to a function are **indented by four spaces** (you can hit tab to indent, but it will be converted to four spaces). Python defines the scope of a function using intendation. Many other programming languages use curly brackets {} to do this. A function is ended by a new line.\n",
        "\n",
        "For example, the same function wouldn't work like this:"
      ]
    },
    {
      "cell_type": "code",
      "metadata": {
        "id": "KbXzhATsqD0W"
      },
      "source": [
        "def f(x):\n",
        "    result = x ** 2 + 3\n",
        "# Throws a NameError becauser result isn't defined outside the function\n",
        "return result"
      ],
      "execution_count": null,
      "outputs": []
    },
    {
      "cell_type": "markdown",
      "metadata": {
        "id": "X2zVME86qD0Y"
      },
      "source": [
        "Equally, we can't indent by too much:"
      ]
    },
    {
      "cell_type": "code",
      "metadata": {
        "id": "0onoYmvCqD0Z"
      },
      "source": [
        "def f(x):\n",
        "    result = x ** 2 + 3\n",
        "    # Throws an IndentationError\n",
        "        return result"
      ],
      "execution_count": null,
      "outputs": []
    },
    {
      "cell_type": "markdown",
      "metadata": {
        "id": "7Ue7oP_iqD0b"
      },
      "source": [
        "## Scope\n",
        "\n",
        "Another critical concept when working with functions is to understand the scope of a variable. Scope defines under which circumstances a variable is accessible. For example, in the following code snippet we cannot access the variable defined inside a function from outside:"
      ]
    },
    {
      "cell_type": "code",
      "metadata": {
        "id": "K-rEBJkdqD0c"
      },
      "source": [
        "def scope_test():\n",
        "    function_scope = \"only readable in here\"\n",
        "    # Within the function, we can use the variable we have defined\n",
        "    print(\"Within function: \" + function_scope)\n",
        "\n",
        "# calling the function, which will print     \n",
        "scope_test()"
      ],
      "execution_count": null,
      "outputs": []
    },
    {
      "cell_type": "code",
      "metadata": {
        "id": "BV2KzPKaqD0e"
      },
      "source": [
        "# If we try to use the function_scope variable outside of the function, we will find that it is not defined. \n",
        "# This will throw a NameError, because Python doesn't know about that variable here\n",
        "print(\"Outside function: \" + function_scope)"
      ],
      "execution_count": null,
      "outputs": []
    },
    {
      "cell_type": "markdown",
      "metadata": {
        "id": "wihAbtvRqD0g"
      },
      "source": [
        "You might wonder \"Why is that? Wouldn't it make sense to have access to variables wherever I need access?\". The reason for scoping is that it's simply much easier to **build reliable software when we modularize code**. When we use a function, we shouldn't have to worry about its internals. \n",
        "\n",
        "Another practical reason is that this way we can **re-use variable names** that were used in other places. This is really important when we work with other peoples' code (e.g., libraries). If that weren't possible, we might get nasty side-effects just because the library uses a variable with the same name somewhere. \n",
        "\n",
        "You can, however, use variables defined in the larger scope in the sub-scope:"
      ]
    },
    {
      "cell_type": "code",
      "metadata": {
        "id": "qw2hF94YqD0h"
      },
      "source": [
        "name = \"Science Cat\"\n",
        "\n",
        "def print_name_with_dr():\n",
        "    print(\"Dr.\", name)\n",
        "    \n",
        "print_name_with_dr()"
      ],
      "execution_count": null,
      "outputs": []
    },
    {
      "cell_type": "markdown",
      "metadata": {
        "id": "wuB8mA9jqD0k"
      },
      "source": [
        "This is generally **not considered good practice** — functions should rely on their input parameters. Otherwise it can easily lead to side effects. Passing the variable into the function would be the better approach: "
      ]
    },
    {
      "cell_type": "code",
      "metadata": {
        "id": "Cyl_fGy-qD0m"
      },
      "source": [
        "# notice that we're re-using the parameter name\n",
        "def print_name_with_dr(name):\n",
        "    print(\"Dr.\", name)\n",
        "    \n",
        "print_name_with_dr(name)"
      ],
      "execution_count": null,
      "outputs": []
    },
    {
      "cell_type": "markdown",
      "metadata": {
        "id": "pnnmWaaBqD0p"
      },
      "source": [
        "Finally, there is a way to define a variable within a function for use outside its scope by using the global keyword. There are reasons to do this, however, it is generally discouraged."
      ]
    },
    {
      "cell_type": "code",
      "metadata": {
        "id": "GLrAt2eoqD0p"
      },
      "source": [
        "def scope_test():\n",
        "    # Think long and hard before you do this - generally you shoudln't. I have never.\n",
        "    global global_scope\n",
        "    global_scope = \"defined in the function, global scope\"\n",
        "    # Within the function, we can use the variable we have defined\n",
        "    print(\"Within function: \" + global_scope)\n",
        "\n",
        "scope_test()\n",
        "# Since this is defined as global we can also print the variable here\n",
        "print(\"Outside function: \" + global_scope)"
      ],
      "execution_count": null,
      "outputs": []
    },
    {
      "cell_type": "markdown",
      "metadata": {
        "id": "Le02RbDJqD0s"
      },
      "source": [
        "### **Exercise 2: Functions**\n",
        "Write a function that \n",
        " * takes two numerical variables\n",
        " * multiplies them with each other\n",
        " * divides them by a numerical variable defined in the scope outside the function\n",
        " * and returns the result. \n",
        " \n",
        "Print the result of the function for three different sets of input variables. "
      ]
    }
  ]
}